{
 "cells": [
  {
   "cell_type": "code",
   "execution_count": 1,
   "metadata": {},
   "outputs": [],
   "source": [
    "import csv\n",
    "\n",
    "import pandas as pd\n",
    "from rdkit import Chem\n",
    "from rdkit.Chem.Draw import IPythonConsole\n",
    "from rdkit.Chem import Draw\n",
    "IPythonConsole.ipython_useSVG=True\n",
    "from rdkit.Chem import Descriptors"
   ]
  },
  {
   "cell_type": "code",
   "execution_count": 38,
   "metadata": {},
   "outputs": [],
   "source": [
    "path = r'C:\\Users\\20202181\\OneDrive - TU Eindhoven\\Documents\\Vakken\\Advanced Programming\\8CC00\\Group Assignment\\Molecules_combined.csv'\n",
    "csv_file = open(path, 'r')\n",
    "reader = csv.reader(csv_file)\n",
    "data = [row for row in reader]"
   ]
  },
  {
   "cell_type": "code",
   "execution_count": 32,
   "metadata": {},
   "outputs": [],
   "source": [
    "df = pd.DataFrame()"
   ]
  },
  {
   "cell_type": "code",
   "execution_count": null,
   "metadata": {},
   "outputs": [],
   "source": [
    "\n",
    "m = Chem.MolFromSmiles(data[1][0])\n",
    "vs = Descriptors.CalcMolDescriptors(m)\n",
    "df = pd.DataFrame(vs.items())\n",
    "df.rename(columns={1:data[1][0]},inplace=True)\n",
    "for i,x in enumerate(data[2:]):\n",
    "    m = Chem.MolFromSmiles(x[0])\n",
    "    vs = Descriptors.CalcMolDescriptors(m)\n",
    "    df[x[0]] = vs.values()\n",
    "\n",
    "df.to_csv('descriptors_known_molecs.csv')\n",
    "\n"
   ]
  }
 ],
 "metadata": {
  "kernelspec": {
   "display_name": "Python 3",
   "language": "python",
   "name": "python3"
  },
  "language_info": {
   "codemirror_mode": {
    "name": "ipython",
    "version": 3
   },
   "file_extension": ".py",
   "mimetype": "text/x-python",
   "name": "python",
   "nbconvert_exporter": "python",
   "pygments_lexer": "ipython3",
   "version": "3.10.5"
  },
  "orig_nbformat": 4
 },
 "nbformat": 4,
 "nbformat_minor": 2
}
