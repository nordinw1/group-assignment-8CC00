{
 "cells": [
  {
   "cell_type": "code",
   "execution_count": 1,
   "metadata": {},
   "outputs": [],
   "source": [
    "import pandas as pd\n",
    "import numpy as np\n",
    "from sklearn.model_selection import train_test_split\n",
    "from sklearn.preprocessing import StandardScaler"
   ]
  },
  {
   "cell_type": "code",
   "execution_count": 5,
   "metadata": {},
   "outputs": [
    {
     "name": "stdout",
     "output_type": "stream",
     "text": [
      "   Unnamed: 0                                 MolecularStructure         0  \\\n",
      "0           0  COc1ccccc1CC(NC(C)=O)C(=O)NC1CCN(c2nnnn2-c2ccc...  1.645544   \n",
      "1           1             O=C(CSc1nc2cccnc2n1Cc1ccccc1)NCc1ccco1  0.365707   \n",
      "2           2  Cc1cccc2cc(C[NH+](CC3CCCO3)C(c3nnnn3Cc3ccco3)C...  1.599138   \n",
      "3           3                  CCN(CC)c1ccc2c(Cl)c(Br)c(=O)oc2c1 -0.987668   \n",
      "4           4  CS(=O)(=O)N1CCc2cc(-c3csc(NC(=O)Cc4cccs4)n3)ccc21  0.677684   \n",
      "\n",
      "          1         2         3         4         5         6         7  ...  \\\n",
      "0 -0.404319  0.502380  0.012592  0.484215 -0.233489  0.058576 -0.367349  ...   \n",
      "1 -0.978824  0.381196  0.186852 -0.157101 -0.257728  0.157767  0.009376  ...   \n",
      "2 -0.602560  1.458380  0.082579  0.493876 -0.323390 -0.096839  0.072496  ...   \n",
      "3 -0.135199  0.034042 -0.013147 -0.331700  0.453043  0.225023  0.343728  ...   \n",
      "4 -0.422693  0.343926  0.391847 -0.584749  0.708196  0.120621  0.341147  ...   \n",
      "\n",
      "         92        93        94        95        96        97        98  \\\n",
      "0 -0.017064 -0.041475  0.019980  0.017129  0.037274  0.041754  0.007929   \n",
      "1  0.006979 -0.008536 -0.017069  0.037732  0.017166  0.006646  0.014489   \n",
      "2  0.123060  0.047569  0.030857 -0.031274 -0.100775  0.023124 -0.026356   \n",
      "3  0.025528 -0.052198  0.045620  0.060754 -0.071861 -0.013908  0.111089   \n",
      "4 -0.014802  0.007028  0.042392  0.043508  0.036586 -0.041571 -0.013626   \n",
      "\n",
      "         99       100  ALDH1_inhibition  \n",
      "0  0.001660 -0.003816               Yes  \n",
      "1  0.023163 -0.028695               Yes  \n",
      "2  0.060234 -0.004658               Yes  \n",
      "3 -0.003668  0.016039               Yes  \n",
      "4 -0.012405  0.047532               Yes  \n",
      "\n",
      "[5 rows x 104 columns]\n"
     ]
    }
   ],
   "source": [
    "csv_file = \"reduced_scaled_list_of_molecs.csv\"\n",
    "data = pd.read_csv(csv_file, header = 0)\n",
    "print(data.head())"
   ]
  },
  {
   "cell_type": "code",
   "execution_count": 13,
   "metadata": {},
   "outputs": [
    {
     "name": "stdout",
     "output_type": "stream",
     "text": [
      "   Unnamed: 0         0         1         2         3         4         5  \\\n",
      "0           0  1.645544 -0.404319  0.502380  0.012592  0.484215 -0.233489   \n",
      "1           1  0.365707 -0.978824  0.381196  0.186852 -0.157101 -0.257728   \n",
      "2           2  1.599138 -0.602560  1.458380  0.082579  0.493876 -0.323390   \n",
      "3           3 -0.987668 -0.135199  0.034042 -0.013147 -0.331700  0.453043   \n",
      "4           4  0.677684 -0.422693  0.343926  0.391847 -0.584749  0.708196   \n",
      "\n",
      "          6         7         8  ...        92        93        94        95  \\\n",
      "0  0.058576 -0.367349  0.154809  ... -0.017064 -0.041475  0.019980  0.017129   \n",
      "1  0.157767  0.009376 -0.071659  ...  0.006979 -0.008536 -0.017069  0.037732   \n",
      "2 -0.096839  0.072496  0.723184  ...  0.123060  0.047569  0.030857 -0.031274   \n",
      "3  0.225023  0.343728 -0.414588  ...  0.025528 -0.052198  0.045620  0.060754   \n",
      "4  0.120621  0.341147 -0.154552  ... -0.014802  0.007028  0.042392  0.043508   \n",
      "\n",
      "         96        97        98        99       100  ALDH1_inhibition  \n",
      "0  0.037274  0.041754  0.007929  0.001660 -0.003816                 1  \n",
      "1  0.017166  0.006646  0.014489  0.023163 -0.028695                 1  \n",
      "2 -0.100775  0.023124 -0.026356  0.060234 -0.004658                 1  \n",
      "3 -0.071861 -0.013908  0.111089 -0.003668  0.016039                 1  \n",
      "4  0.036586 -0.041571 -0.013626 -0.012405  0.047532                 1  \n",
      "\n",
      "[5 rows x 103 columns]\n"
     ]
    }
   ],
   "source": [
    "# Verwijderen van irrelevante kolommen\n",
    "columns_to_drop = [\"MolecularStructure\"]  # Voeg hier de namen van de irrelevante kolommen toe\n",
    "data = data.drop(columns=columns_to_drop)\n",
    "\n",
    "data = data.dropna() #verwijderd rijen met ontbrekende waarden\n",
    "from sklearn.preprocessing import LabelEncoder\n",
    "label_encoder = LabelEncoder()\n",
    "data[\"ALDH1_inhibition\"] = label_encoder.fit_transform(data[\"ALDH1_inhibition\"]) #yes = 1 no = 0\n",
    "print(data.head())"
   ]
  },
  {
   "cell_type": "code",
   "execution_count": 14,
   "metadata": {},
   "outputs": [],
   "source": [
    "\n",
    "X = data.drop(columns=[\"ALDH1_inhibition\"])\n",
    "y = data[\"ALDH1_inhibition\"]\n",
    "\n",
    "# 20% testset, 80% training\n",
    "X_train, X_test, y_train, y_test = train_test_split(X, y, test_size=0.2, random_state=42)\n",
    "\n",
    "# Schalen van de functies\n",
    "scaler = StandardScaler()\n",
    "X_train = scaler.fit_transform(X_train)\n",
    "X_test = scaler.transform(X_test)"
   ]
  },
  {
   "cell_type": "code",
   "execution_count": 15,
   "metadata": {},
   "outputs": [],
   "source": [
    "# Importeren van het machine learning-model\n",
    "from sklearn.ensemble import RandomForestClassifier\n",
    "model = RandomForestClassifier()\n",
    "model.fit(X_train, y_train)\n",
    "y_pred = model.predict(X_test)"
   ]
  },
  {
   "cell_type": "code",
   "execution_count": 16,
   "metadata": {},
   "outputs": [
    {
     "name": "stdout",
     "output_type": "stream",
     "text": [
      "Accuracy: 0.995\n",
      "Precision: 1.0\n",
      "Recall: 0.9833333333333333\n",
      "F1 Score: 0.9915966386554621\n"
     ]
    }
   ],
   "source": [
    "from sklearn.metrics import accuracy_score, precision_score, recall_score, f1_score\n",
    "\n",
    "# Evaluatie van het model\n",
    "accuracy = accuracy_score(y_test, y_pred)\n",
    "precision = precision_score(y_test, y_pred)\n",
    "recall = recall_score(y_test, y_pred)\n",
    "f1 = f1_score(y_test, y_pred)\n",
    "\n",
    "# Uitvoer van de evaluatieresultaten\n",
    "print(\"Accuracy:\", accuracy)\n",
    "print(\"Precision:\", precision)\n",
    "print(\"Recall:\", recall)\n",
    "print(\"F1 Score:\", f1)"
   ]
  }
 ],
 "metadata": {
  "kernelspec": {
   "display_name": "Python 3",
   "language": "python",
   "name": "python3"
  },
  "language_info": {
   "codemirror_mode": {
    "name": "ipython",
    "version": 3
   },
   "file_extension": ".py",
   "mimetype": "text/x-python",
   "name": "python",
   "nbconvert_exporter": "python",
   "pygments_lexer": "ipython3",
   "version": "3.7.6"
  }
 },
 "nbformat": 4,
 "nbformat_minor": 4
}
