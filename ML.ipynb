{
 "cells": [
  {
   "cell_type": "code",
   "execution_count": 96,
   "metadata": {},
   "outputs": [],
   "source": [
    "import pandas as pd\n",
    "import numpy as np\n",
    "from sklearn.model_selection import train_test_split, RandomizedSearchCV\n",
    "from sklearn.preprocessing import StandardScaler\n",
    "from scipy.stats import randint"
   ]
  },
  {
   "cell_type": "code",
   "execution_count": 97,
   "metadata": {},
   "outputs": [
    {
     "name": "stdout",
     "output_type": "stream",
     "text": [
      "                                          Unnamed: 0       PC1       PC2  \\\n",
      "0  COc1ccccc1CC(NC(C)=O)C(=O)NC1CCN(c2nnnn2-c2ccc...  0.873691  1.011789   \n",
      "1             O=C(CSc1nc2cccnc2n1Cc1ccccc1)NCc1ccco1 -0.070396  0.836068   \n",
      "2  Cc1cccc2cc(C[NH+](CC3CCCO3)C(c3nnnn3Cc3ccco3)C...  0.568791  1.049937   \n",
      "3                  CCN(CC)c1ccc2c(Cl)c(Br)c(=O)oc2c1 -0.358623 -0.421055   \n",
      "4  CS(=O)(=O)N1CCc2cc(-c3csc(NC(=O)Cc4cccs4)n3)ccc21  0.437417  0.474394   \n",
      "\n",
      "        PC3       PC4       PC5       PC6       PC7       PC8       PC9  ...  \\\n",
      "0 -0.182139 -0.223956  0.492136  0.135993 -0.127539  0.019637 -0.268770  ...   \n",
      "1  0.068009 -0.372655 -0.195054  0.073084 -0.009113  0.026222  0.142134  ...   \n",
      "2 -0.180732 -0.860063  0.427130 -0.503204 -0.012247  0.523686  0.085882  ...   \n",
      "3  0.059214 -0.008505 -0.312905  0.392098  0.258758  0.156754  0.273009  ...   \n",
      "4  0.312002 -0.176393 -0.255540  0.271514  0.048435  0.332471 -0.144189  ...   \n",
      "\n",
      "       PC25      PC26      PC27      PC28      PC29      PC30      PC31  \\\n",
      "0  0.194245 -0.039295 -0.026117  0.195499 -0.112998 -0.188653 -0.057517   \n",
      "1  0.138816  0.109786  0.078531 -0.168753  0.208380 -0.109078 -0.066451   \n",
      "2 -0.165430 -0.001814 -0.016709  0.321922  0.046222  0.034103 -0.252086   \n",
      "3 -0.076742  0.075923  0.206183  0.116790 -0.179684 -0.195519 -0.120440   \n",
      "4 -0.017319  0.087436 -0.018026 -0.305317  0.168894  0.083411  0.062006   \n",
      "\n",
      "       PC32      PC33  ALDH1_inhibition  \n",
      "0 -0.001167  0.119534               Yes  \n",
      "1  0.070565 -0.050424               Yes  \n",
      "2  0.010067  0.177005               Yes  \n",
      "3 -0.232880 -0.016757               Yes  \n",
      "4 -0.065165 -0.206328               Yes  \n",
      "\n",
      "[5 rows x 35 columns]\n"
     ]
    }
   ],
   "source": [
    "csv_file = \"reduced_scaled_list_of_molecs_v2.csv\"\n",
    "data = pd.read_csv(csv_file, header = 0)\n",
    "print(data.head())"
   ]
  },
  {
   "cell_type": "code",
   "execution_count": 98,
   "metadata": {},
   "outputs": [
    {
     "name": "stdout",
     "output_type": "stream",
     "text": [
      "        PC1       PC2       PC3       PC4       PC5       PC6       PC7  \\\n",
      "0  0.873691  1.011789 -0.182139 -0.223956  0.492136  0.135993 -0.127539   \n",
      "1 -0.070396  0.836068  0.068009 -0.372655 -0.195054  0.073084 -0.009113   \n",
      "2  0.568791  1.049937 -0.180732 -0.860063  0.427130 -0.503204 -0.012247   \n",
      "3 -0.358623 -0.421055  0.059214 -0.008505 -0.312905  0.392098  0.258758   \n",
      "4  0.437417  0.474394  0.312002 -0.176393 -0.255540  0.271514  0.048435   \n",
      "\n",
      "        PC8       PC9      PC10  ...      PC25      PC26      PC27      PC28  \\\n",
      "0  0.019637 -0.268770  0.096624  ...  0.194245 -0.039295 -0.026117  0.195499   \n",
      "1  0.026222  0.142134 -0.404668  ...  0.138816  0.109786  0.078531 -0.168753   \n",
      "2  0.523686  0.085882 -0.498935  ... -0.165430 -0.001814 -0.016709  0.321922   \n",
      "3  0.156754  0.273009  0.205335  ... -0.076742  0.075923  0.206183  0.116790   \n",
      "4  0.332471 -0.144189  0.215461  ... -0.017319  0.087436 -0.018026 -0.305317   \n",
      "\n",
      "       PC29      PC30      PC31      PC32      PC33  ALDH1_inhibition  \n",
      "0 -0.112998 -0.188653 -0.057517 -0.001167  0.119534                 1  \n",
      "1  0.208380 -0.109078 -0.066451  0.070565 -0.050424                 1  \n",
      "2  0.046222  0.034103 -0.252086  0.010067  0.177005                 1  \n",
      "3 -0.179684 -0.195519 -0.120440 -0.232880 -0.016757                 1  \n",
      "4  0.168894  0.083411  0.062006 -0.065165 -0.206328                 1  \n",
      "\n",
      "[5 rows x 34 columns]\n"
     ]
    }
   ],
   "source": [
    "# Verwijderen van irrelevante kolommen\n",
    "#columns_to_drop = [\"MolecularStructure\"]  # Voeg hier de namen van de irrelevante kolommen toe\n",
    "#data = data.drop(columns=columns_to_drop)\n",
    "data = data.drop(data.columns[0], axis=1)\n",
    "\n",
    "data = data.dropna() #verwijderd rijen met ontbrekende waarden\n",
    "from sklearn.preprocessing import LabelEncoder\n",
    "label_encoder = LabelEncoder()\n",
    "data[\"ALDH1_inhibition\"] = label_encoder.fit_transform(data[\"ALDH1_inhibition\"]) #yes = 1 no = 0\n",
    "print(data.head())"
   ]
  },
  {
   "cell_type": "code",
   "execution_count": 99,
   "metadata": {},
   "outputs": [],
   "source": [
    "\n",
    "X = data.drop(columns=[\"ALDH1_inhibition\"])\n",
    "y = data[\"ALDH1_inhibition\"]\n",
    "\n",
    "# 20% testset, 80% training\n",
    "X_train, X_test, y_train, y_test = train_test_split(X, y, test_size=0.2, random_state=42)\n",
    "\n",
    "# Schalen van de functies\n",
    "#scaler = StandardScaler()\n",
    "#X_train = scaler.fit_transform(X_train)\n",
    "#X_test = scaler.transform(X_test)"
   ]
  },
  {
   "cell_type": "code",
   "execution_count": 100,
   "metadata": {},
   "outputs": [],
   "source": [
    "# Importeren van het machine learning-model\n",
    "from sklearn.ensemble import RandomForestClassifier\n",
    "model = RandomForestClassifier(max_depth=12, n_estimators=246)\n",
    "model.fit(X_train, y_train)\n",
    "y_pred = model.predict(X_test)"
   ]
  },
  {
   "cell_type": "code",
   "execution_count": 101,
   "metadata": {},
   "outputs": [
    {
     "name": "stdout",
     "output_type": "stream",
     "text": [
      "Accuracy: 0.7873417721518987\n",
      "Precision: 0.7341772151898734\n",
      "Recall: 0.4793388429752066\n",
      "F1 Score: 0.58\n"
     ]
    }
   ],
   "source": [
    "from sklearn.metrics import accuracy_score, precision_score, recall_score, f1_score\n",
    "\n",
    "# Evaluatie van het model\n",
    "accuracy = accuracy_score(y_test, y_pred)\n",
    "precision = precision_score(y_test, y_pred)\n",
    "recall = recall_score(y_test, y_pred)\n",
    "f1 = f1_score(y_test, y_pred)\n",
    "\n",
    "# Uitvoer van de evaluatieresultaten\n",
    "print(\"Accuracy:\", accuracy)\n",
    "print(\"Precision:\", precision)\n",
    "print(\"Recall:\", recall)\n",
    "print(\"F1 Score:\", f1)"
   ]
  },
  {
   "attachments": {},
   "cell_type": "markdown",
   "metadata": {},
   "source": [
    "Tunen hyperparamters"
   ]
  },
  {
   "cell_type": "code",
   "execution_count": 102,
   "metadata": {},
   "outputs": [
    {
     "name": "stdout",
     "output_type": "stream",
     "text": [
      "RandomForestClassifier(max_depth=12, n_estimators=403)\n"
     ]
    }
   ],
   "source": [
    "parm_distribution = {'n_estimators': randint(50,500),\n",
    "                    'max_depth': randint(1,20)}\n",
    "rf_model = RandomForestClassifier()\n",
    "randomized_parm_optimization = RandomizedSearchCV(rf_model,\n",
    "                                                  param_distributions=parm_distribution,\n",
    "                                                  n_iter=6,\n",
    "                                                  cv=5)\n",
    "randomized_parm_optimization.fit(X_train,y_train)\n",
    "\n",
    "top_rf_model = randomized_parm_optimization.best_estimator_\n",
    "print(top_rf_model)"
   ]
  }
 ],
 "metadata": {
  "kernelspec": {
   "display_name": "Python 3",
   "language": "python",
   "name": "python3"
  },
  "language_info": {
   "codemirror_mode": {
    "name": "ipython",
    "version": 3
   },
   "file_extension": ".py",
   "mimetype": "text/x-python",
   "name": "python",
   "nbconvert_exporter": "python",
   "pygments_lexer": "ipython3",
   "version": "3.7.6"
  }
 },
 "nbformat": 4,
 "nbformat_minor": 4
}
