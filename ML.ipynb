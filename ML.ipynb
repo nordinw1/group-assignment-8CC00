{
 "cells": [
  {
   "cell_type": "code",
   "execution_count": 1,
   "metadata": {},
   "outputs": [],
   "source": [
    "import pandas as pd\n",
    "import numpy as np\n",
    "from sklearn.model_selection import train_test_split\n",
    "from sklearn.preprocessing import StandardScaler"
   ]
  },
  {
   "cell_type": "code",
   "execution_count": 2,
   "metadata": {},
   "outputs": [
    {
     "name": "stdout",
     "output_type": "stream",
     "text": [
      "   Unnamed: 0                                 MolecularStructure         0  \\\n",
      "0           0  COc1ccccc1CC(NC(C)=O)C(=O)NC1CCN(c2nnnn2-c2ccc...  1.645728   \n",
      "1           1             O=C(CSc1nc2cccnc2n1Cc1ccccc1)NCc1ccco1  0.378596   \n",
      "2           2  Cc1cccc2cc(C[NH+](CC3CCCO3)C(c3nnnn3Cc3ccco3)C...  1.493713   \n",
      "3           3                  CCN(CC)c1ccc2c(Cl)c(Br)c(=O)oc2c1 -0.419793   \n",
      "4           4  CS(=O)(=O)N1CCc2cc(-c3csc(NC(=O)Cc4cccs4)n3)ccc21  0.848317   \n",
      "\n",
      "          1         2         3         4         5         6         7  ...  \\\n",
      "0  0.780982  0.144738  0.320349  0.581260 -0.031954 -0.005198  0.103418  ...   \n",
      "1  0.855898 -0.186397  0.483713 -0.122298 -0.053900  0.276698 -0.037492  ...   \n",
      "2  0.932209  0.331717  1.115455  0.367590 -0.562439 -0.297631 -0.023151  ...   \n",
      "3 -0.333148 -0.065550 -0.020718 -0.454826  0.390388 -0.226066 -0.155734  ...   \n",
      "4  0.360801 -0.272237  0.470996 -0.528439  0.396609 -0.264172 -0.078749  ...   \n",
      "\n",
      "         92        93        94        95        96        97        98  \\\n",
      "0 -0.045048 -0.016376  0.026453 -0.008133  0.004288  0.004645  0.017791   \n",
      "1  0.016992 -0.025591  0.008975  0.009656 -0.000609  0.013818  0.009904   \n",
      "2  0.049565  0.043207 -0.133211  0.105803 -0.057706  0.030285  0.028528   \n",
      "3 -0.031907 -0.021265 -0.001733 -0.005007 -0.030208  0.057413 -0.007324   \n",
      "4  0.040359  0.031169 -0.009435 -0.038523 -0.038859  0.037109  0.071263   \n",
      "\n",
      "         99       100  ALDH1_inhibition  \n",
      "0  0.009914 -0.043286               Yes  \n",
      "1 -0.023126  0.008677               Yes  \n",
      "2  0.028605 -0.031787               Yes  \n",
      "3  0.023224 -0.075417               Yes  \n",
      "4  0.010376  0.014234               Yes  \n",
      "\n",
      "[5 rows x 104 columns]\n"
     ]
    }
   ],
   "source": [
    "csv_file = \"reduced_scaled_list_of_molecs.csv\"\n",
    "data = pd.read_csv(csv_file, header = 0)\n",
    "print(data.head())"
   ]
  },
  {
   "cell_type": "code",
   "execution_count": 3,
   "metadata": {},
   "outputs": [
    {
     "name": "stdout",
     "output_type": "stream",
     "text": [
      "   Unnamed: 0         0         1         2         3         4         5  \\\n",
      "0           0  1.645728  0.780982  0.144738  0.320349  0.581260 -0.031954   \n",
      "1           1  0.378596  0.855898 -0.186397  0.483713 -0.122298 -0.053900   \n",
      "2           2  1.493713  0.932209  0.331717  1.115455  0.367590 -0.562439   \n",
      "3           3 -0.419793 -0.333148 -0.065550 -0.020718 -0.454826  0.390388   \n",
      "4           4  0.848317  0.360801 -0.272237  0.470996 -0.528439  0.396609   \n",
      "\n",
      "          6         7         8  ...        92        93        94        95  \\\n",
      "0 -0.005198  0.103418  0.201387  ... -0.045048 -0.016376  0.026453 -0.008133   \n",
      "1  0.276698 -0.037492 -0.164586  ...  0.016992 -0.025591  0.008975  0.009656   \n",
      "2 -0.297631 -0.023151  0.046421  ...  0.049565  0.043207 -0.133211  0.105803   \n",
      "3 -0.226066 -0.155734 -0.361352  ... -0.031907 -0.021265 -0.001733 -0.005007   \n",
      "4 -0.264172 -0.078749 -0.152650  ...  0.040359  0.031169 -0.009435 -0.038523   \n",
      "\n",
      "         96        97        98        99       100  ALDH1_inhibition  \n",
      "0  0.004288  0.004645  0.017791  0.009914 -0.043286                 1  \n",
      "1 -0.000609  0.013818  0.009904 -0.023126  0.008677                 1  \n",
      "2 -0.057706  0.030285  0.028528  0.028605 -0.031787                 1  \n",
      "3 -0.030208  0.057413 -0.007324  0.023224 -0.075417                 1  \n",
      "4 -0.038859  0.037109  0.071263  0.010376  0.014234                 1  \n",
      "\n",
      "[5 rows x 103 columns]\n"
     ]
    }
   ],
   "source": [
    "# Verwijderen van irrelevante kolommen\n",
    "columns_to_drop = [\"MolecularStructure\"]  # Voeg hier de namen van de irrelevante kolommen toe\n",
    "data = data.drop(columns=columns_to_drop)\n",
    "\n",
    "data = data.dropna() #verwijderd rijen met ontbrekende waarden\n",
    "from sklearn.preprocessing import LabelEncoder\n",
    "label_encoder = LabelEncoder()\n",
    "data[\"ALDH1_inhibition\"] = label_encoder.fit_transform(data[\"ALDH1_inhibition\"]) #yes = 1 no = 0\n",
    "print(data.head())"
   ]
  },
  {
   "cell_type": "code",
   "execution_count": 4,
   "metadata": {},
   "outputs": [],
   "source": [
    "\n",
    "X = data.drop(columns=[\"ALDH1_inhibition\"])\n",
    "y = data[\"ALDH1_inhibition\"]\n",
    "\n",
    "# 20% testset, 80% training\n",
    "X_train, X_test, y_train, y_test = train_test_split(X, y, test_size=0.2, random_state=42)\n",
    "\n",
    "# Schalen van de functies\n",
    "scaler = StandardScaler()\n",
    "X_train = scaler.fit_transform(X_train)\n",
    "X_test = scaler.transform(X_test)"
   ]
  },
  {
   "cell_type": "code",
   "execution_count": 11,
   "metadata": {},
   "outputs": [],
   "source": [
    "# Importeren van het machine learning-model\n",
    "from sklearn.ensemble import RandomForestClassifier\n",
    "model = RandomForestClassifier()\n",
    "model.fit(X_train, y_train)\n",
    "y_pred = model.predict(X_test)"
   ]
  },
  {
   "cell_type": "code",
   "execution_count": 16,
   "metadata": {},
   "outputs": [
    {
     "name": "stdout",
     "output_type": "stream",
     "text": [
      "Accuracy: 0.9949367088607595\n",
      "Precision: 0.9917355371900827\n",
      "Recall: 0.9917355371900827\n",
      "F1 Score: 0.9917355371900827\n"
     ]
    },
    {
     "name": "stderr",
     "output_type": "stream",
     "text": [
      "c:\\Users\\20202181\\AppData\\Local\\Programs\\Python\\Python310\\lib\\site-packages\\sklearn\\base.py:443: UserWarning: X has feature names, but RandomForestClassifier was fitted without feature names\n",
      "  warnings.warn(\n"
     ]
    },
    {
     "data": {
      "text/html": [
       "<div>\n",
       "<style scoped>\n",
       "    .dataframe tbody tr th:only-of-type {\n",
       "        vertical-align: middle;\n",
       "    }\n",
       "\n",
       "    .dataframe tbody tr th {\n",
       "        vertical-align: top;\n",
       "    }\n",
       "\n",
       "    .dataframe thead th {\n",
       "        text-align: right;\n",
       "    }\n",
       "</style>\n",
       "<table border=\"1\" class=\"dataframe\">\n",
       "  <thead>\n",
       "    <tr style=\"text-align: right;\">\n",
       "      <th></th>\n",
       "      <th>0</th>\n",
       "      <th>1</th>\n",
       "    </tr>\n",
       "  </thead>\n",
       "  <tbody>\n",
       "    <tr>\n",
       "      <th>617</th>\n",
       "      <td>0.28</td>\n",
       "      <td>0.72</td>\n",
       "    </tr>\n",
       "    <tr>\n",
       "      <th>1729</th>\n",
       "      <td>0.28</td>\n",
       "      <td>0.72</td>\n",
       "    </tr>\n",
       "    <tr>\n",
       "      <th>1853</th>\n",
       "      <td>0.29</td>\n",
       "      <td>0.71</td>\n",
       "    </tr>\n",
       "    <tr>\n",
       "      <th>208</th>\n",
       "      <td>0.30</td>\n",
       "      <td>0.70</td>\n",
       "    </tr>\n",
       "    <tr>\n",
       "      <th>327</th>\n",
       "      <td>0.30</td>\n",
       "      <td>0.70</td>\n",
       "    </tr>\n",
       "    <tr>\n",
       "      <th>...</th>\n",
       "      <td>...</td>\n",
       "      <td>...</td>\n",
       "    </tr>\n",
       "    <tr>\n",
       "      <th>1090</th>\n",
       "      <td>0.60</td>\n",
       "      <td>0.40</td>\n",
       "    </tr>\n",
       "    <tr>\n",
       "      <th>1080</th>\n",
       "      <td>0.60</td>\n",
       "      <td>0.40</td>\n",
       "    </tr>\n",
       "    <tr>\n",
       "      <th>1038</th>\n",
       "      <td>0.60</td>\n",
       "      <td>0.40</td>\n",
       "    </tr>\n",
       "    <tr>\n",
       "      <th>1</th>\n",
       "      <td>0.85</td>\n",
       "      <td>0.15</td>\n",
       "    </tr>\n",
       "    <tr>\n",
       "      <th>0</th>\n",
       "      <td>0.97</td>\n",
       "      <td>0.03</td>\n",
       "    </tr>\n",
       "  </tbody>\n",
       "</table>\n",
       "<p>1975 rows × 2 columns</p>\n",
       "</div>"
      ],
      "text/plain": [
       "         0     1\n",
       "617   0.28  0.72\n",
       "1729  0.28  0.72\n",
       "1853  0.29  0.71\n",
       "208   0.30  0.70\n",
       "327   0.30  0.70\n",
       "...    ...   ...\n",
       "1090  0.60  0.40\n",
       "1080  0.60  0.40\n",
       "1038  0.60  0.40\n",
       "1     0.85  0.15\n",
       "0     0.97  0.03\n",
       "\n",
       "[1975 rows x 2 columns]"
      ]
     },
     "execution_count": 16,
     "metadata": {},
     "output_type": "execute_result"
    }
   ],
   "source": [
    "from sklearn.metrics import accuracy_score, precision_score, recall_score, f1_score\n",
    "\n",
    "# Evaluatie van het model\n",
    "accuracy = accuracy_score(y_test, y_pred)\n",
    "precision = precision_score(y_test, y_pred)\n",
    "recall = recall_score(y_test, y_pred)\n",
    "f1 = f1_score(y_test, y_pred)\n",
    "\n",
    "# Uitvoer van de evaluatieresultaten\n",
    "print(\"Accuracy:\", accuracy)\n",
    "print(\"Precision:\", precision)\n",
    "print(\"Recall:\", recall)\n",
    "print(\"F1 Score:\", f1)\n",
    "\n",
    "#Score per molecule\n",
    "y_pred_proba = model.predict_proba(X)\n",
    "prediction = y_pred_proba\n",
    "prediction = pd.DataFrame(prediction)\n",
    "prediction.sort_values(by=[1], ascending=False, inplace=True)\n",
    "prediction "
   ]
  }
 ],
 "metadata": {
  "kernelspec": {
   "display_name": "Python 3",
   "language": "python",
   "name": "python3"
  },
  "language_info": {
   "codemirror_mode": {
    "name": "ipython",
    "version": 3
   },
   "file_extension": ".py",
   "mimetype": "text/x-python",
   "name": "python",
   "nbconvert_exporter": "python",
   "pygments_lexer": "ipython3",
   "version": "3.10.5"
  }
 },
 "nbformat": 4,
 "nbformat_minor": 4
}
