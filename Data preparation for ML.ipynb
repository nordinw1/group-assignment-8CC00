{
 "cells": [
  {
   "cell_type": "markdown",
   "id": "f6001a35",
   "metadata": {},
   "source": [
    "<h1>Data preprocessing</h1>"
   ]
  },
  {
   "cell_type": "markdown",
   "id": "97dc2aaf",
   "metadata": {},
   "source": [
    "<h2>Importing necessary modules</h2>"
   ]
  },
  {
   "cell_type": "code",
   "execution_count": null,
   "id": "050b0410",
   "metadata": {},
   "outputs": [],
   "source": [
    "import csv\n",
    "import numpy as np\n",
    "import pandas as pd\n",
    "from sklearn.decomposition import PCA\n",
    "from sklearn.preprocessing import MinMaxScaler\n",
    "\n",
    "from rdkit import Chem\n",
    "from rdkit.Chem.Draw import IPythonConsole\n",
    "from rdkit.Chem import Draw\n",
    "IPythonConsole.ipython_useSVG=True\n",
    "from rdkit.Chem import Descriptors"
   ]
  },
  {
   "cell_type": "markdown",
   "id": "cfbdbaaf",
   "metadata": {},
   "source": [
    "<p>V <em>What file is read in here actually??</em> V</p>"
   ]
  },
  {
   "cell_type": "code",
   "execution_count": null,
   "id": "6efe3b23",
   "metadata": {},
   "outputs": [],
   "source": [
    "# Define filepath to Molecules_combined.csv.\n",
    "path = r\"\"\n",
    "csv_file = open(path, 'r')\n",
    "reader = csv.reader(csv_file)\n",
    "data = [row for row in reader]"
   ]
  },
  {
   "cell_type": "markdown",
   "id": "2781f27c",
   "metadata": {},
   "source": [
    "<h2>Create DataFrame containing molecules and descriptors</h2>\n",
    "<p>Possible to export it as csv file.</p>"
   ]
  },
  {
   "cell_type": "code",
   "execution_count": null,
   "id": "c20458d2",
   "metadata": {},
   "outputs": [],
   "source": [
    "# TODO: more sensible variable names?\n",
    "m = Chem.MolFromSmiles(data[1][0])\n",
    "vs = Descriptors.CalcMolDescriptors(m)\n",
    "\n",
    "df_full = pd.DataFrame(vs.items())\n",
    "df_full.rename(columns={1:data[1][0]},inplace=True)\n",
    "\n",
    "for i,x in enumerate(data[2:]):\n",
    "    m = Chem.MolFromSmiles(x[0])\n",
    "    vs = Descriptors.CalcMolDescriptors(m)\n",
    "    df_full[x[0]] = vs.values()\n",
    "\n",
    "#df_full.to_csv('descriptors_known_molecs.csv')"
   ]
  },
  {
   "cell_type": "markdown",
   "id": "af196c96",
   "metadata": {},
   "source": [
    "<p>DataFrame won't have to be read in anymore, as it is created above already.</p>"
   ]
  },
  {
   "cell_type": "code",
   "execution_count": null,
   "id": "7cb88ff5",
   "metadata": {},
   "outputs": [],
   "source": [
    "#df_full = pd.read_csv(\"descriptors_known_molecs.csv\")\n",
    "#df.tail()"
   ]
  },
  {
   "cell_type": "markdown",
   "id": "7ffe2887",
   "metadata": {},
   "source": [
    "<h2>Create DataFrame containing ALDH1 inhibition data for 2000 given molecules</h2>"
   ]
  },
  {
   "cell_type": "code",
   "execution_count": null,
   "id": "4636110c",
   "metadata": {},
   "outputs": [],
   "source": [
    "df_inhibition1 = pd.read_csv(\"tested_molecules-1.csv\")\n",
    "df_inhibition2 = pd.read_csv(\"tested_molecules_v2.csv\")"
   ]
  },
  {
   "cell_type": "code",
   "execution_count": null,
   "id": "r3s7u7t9",
   "metadata": {},
   "outputs": [],
   "source": [
    "df_inhibition = pd.concat([df_inhibition1, df_inhibition2], ignore_index = True)\n",
    "df_inhibition.tail()"
   ]
  },
  {
   "cell_type": "code",
   "execution_count": null,
   "id": "5j6e8f4g",
   "metadata": {},
   "outputs": [],
   "source": [
    "len(df_inhibition), len(df_inhibition1), len(df_inhibition2)"
   ]
  },
  {
   "cell_type": "markdown",
   "id": "84094d88",
   "metadata": {},
   "source": [
    "<h2>Combine feature data and label data</h2>\n",
    "<p>A row containing the ALDH1 inhibition for every molecule is added. If no inhibition data is available for a molecule, <br>that entry is deleted from the DataFrame.</p>"
   ]
  },
  {
   "cell_type": "code",
   "execution_count": null,
   "id": "20cc5d8d",
   "metadata": {},
   "outputs": [],
   "source": [
    "# Create list with all molecules reported in df_full, \n",
    "# leaving out the non-molecule names.\n",
    "all_molecules = list(df_full.columns)\n",
    "del all_molecules[:2]\n",
    "\n",
    "# Create list with all molecules reported in df_inhibition.\n",
    "select_molecules = list(df_inhibition[\"SMILES\"])\n",
    "\n",
    "# Create list to store molecules in which are not found in the bigger dataset, if any.\n",
    "molecule_not_found = []\n",
    "\n",
    "# Create new DataFrame, with similar shape to df_full though with \n",
    "# one extra row for the ALDH1 inhibition data.\n",
    "df_combined = pd.DataFrame(np.zeros, index=pd.RangeIndex(len(df_full)+1), columns=df_full.columns)\n",
    "df_combined.loc[np.arange(len(df_full))] = df_full.values\n",
    "\n",
    "# Loop through the molecules in df_inhibition and check whether the molecules can be \n",
    "# found in df_full. If so, check what value to add into df_combined for ALDH1 inhibition.\n",
    "# If a molecule from df_inhibition is NOT found in df_full, it is added to the list\n",
    "# \"molecule_not_found\".\n",
    "for molecule in list(df_inhibition[\"SMILES\"]):\n",
    "    if molecule in all_molecules:\n",
    "        index = df_inhibition[df_inhibition[\"SMILES\"] == molecule].index[0]\n",
    "        if df_inhibition[\"ALDH1_inhibition\"][index] == 1:\n",
    "            df_combined.loc[209, molecule] = \"Yes\"\n",
    "        else:\n",
    "            df_combined.loc[209, molecule] = \"No\"\n",
    "    else:\n",
    "        molecule_not_found.append(molecule)\n",
    "\n",
    "# Variable name \"ALDH1_inhibition\" is added to df_combined.\n",
    "df_combined.loc[209, \"0\"] = \"ALDH1_inhibition\"\n",
    "\n",
    "# Finally check for what molecules the ALDH1 inhibition is known. All molecules for which \n",
    "# this is unknown are removed from df_combined.\n",
    "for molecule in df_full.columns:\n",
    "    if (molecule not in select_molecules) & (molecule != \"0\"):\n",
    "        df_combined = df_combined.drop([molecule], axis=1)"
   ]
  },
  {
   "cell_type": "markdown",
   "id": "053e5a11",
   "metadata": {},
   "source": [
    "<p>Check how many molecules from df_inhibition were not found in df_full.<p>"
   ]
  },
  {
   "cell_type": "code",
   "execution_count": null,
   "id": "50aa2e7c",
   "metadata": {},
   "outputs": [],
   "source": [
    "not_found = len(molecule_not_found)\n",
    "assert not_found == 0, f\"{not_found} molecule(s) from df_inhibition was/were not in df_full.\""
   ]
  },
  {
   "cell_type": "markdown",
   "id": "7f357073",
   "metadata": {},
   "source": [
    "<h2>Transpose df_combined and exprot it as csv</h2>"
   ]
  },
  {
   "cell_type": "code",
   "execution_count": null,
   "id": "ae5106d6",
   "metadata": {},
   "outputs": [],
   "source": [
    "df_transposed = df_combined.transpose()\n",
    "df_transposed.to_csv(\"Nearly_useful_sheet.csv\")"
   ]
  },
  {
   "cell_type": "markdown",
   "id": "57906d7b",
   "metadata": {},
   "source": [
    "<h3><em>After the \"Nearly_useful_sheet.csv\" has been saved, it has to be slightly edited <br>\n",
    "        so that it is more practical to use for further purposes.<br>\n",
    "        Here we might want to edit the csv through a code block also instead of manually.</em></h3>"
   ]
  },
  {
   "cell_type": "markdown",
   "id": "8418f623",
   "metadata": {},
   "source": [
    "<h2>Create DataFrame containing altered version of previously saved csv</h2>"
   ]
  },
  {
   "cell_type": "markdown",
   "id": "8b8c6a3f",
   "metadata": {},
   "source": [
    "<p>For the sake of variable analysis, the 2 non-numerical columns are removed.</p>"
   ]
  },
  {
   "cell_type": "code",
   "execution_count": null,
   "id": "96727d2f",
   "metadata": {},
   "outputs": [],
   "source": [
    "DF3 = pd.read_csv(\"Useful_sheet.csv\")\n",
    "DF2 = DF3.loc[:, DF3.columns != \"MolecularStructure\"]\n",
    "DF = DF2.loc[:, DF2.columns != \"ALDH1_inhibition\"]"
   ]
  },
  {
   "cell_type": "markdown",
   "id": "b8514efd",
   "metadata": {},
   "source": [
    "<h2>Scale the data using a MinMax scaler to prepare for PCA</h2>"
   ]
  },
  {
   "cell_type": "code",
   "execution_count": null,
   "id": "372b3b5b",
   "metadata": {},
   "outputs": [],
   "source": [
    "scaler = MinMaxScaler()\n",
    "DF[:] = scaler.fit_transform(DF[:])"
   ]
  },
  {
   "cell_type": "markdown",
   "id": "d95cc324",
   "metadata": {},
   "source": [
    "<h2>Perform a PCA on DF, so that the given amount data variance (= n_components) is maintained.</h2>"
   ]
  },
  {
   "cell_type": "code",
   "execution_count": null,
   "id": "7444493a",
   "metadata": {},
   "outputs": [],
   "source": [
    "pca = PCA(n_components = 0.99)\n",
    "pca.fit(DF)\n",
    "df_reduced = pd.DataFrame(pca.transform(DF))\n",
    "\n",
    "# Show snippet of reduced DataFrame.\n",
    "df_reduced.head()"
   ]
  },
  {
   "cell_type": "markdown",
   "id": "5063d20f",
   "metadata": {},
   "source": [
    "<h2>Re-enter the previously removed columns</h2>"
   ]
  },
  {
   "cell_type": "code",
   "execution_count": null,
   "id": "970c0815",
   "metadata": {},
   "outputs": [],
   "source": [
    "df_reduced.insert(0, \"MolecularStructure\", DF3[\"MolecularStructure\"])\n",
    "df_reduced.insert(102, \"ALDH1_inhibition\", DF3[\"ALDH1_inhibition\"])\n",
    "\n",
    "# Show snippet of final df_reduced.\n",
    "df_reduced.head()"
   ]
  },
  {
   "cell_type": "markdown",
   "id": "01dd9f16",
   "metadata": {},
   "source": [
    "<h2>Export the final df_reduced as csv for further use</h2>"
   ]
  },
  {
   "cell_type": "code",
   "execution_count": null,
   "id": "382a5d46",
   "metadata": {},
   "outputs": [],
   "source": [
    "df_reduced.to_csv(\"reduced_scaled_list_of_molecs.csv\")"
   ]
  }
 ],
 "metadata": {
  "kernelspec": {
   "display_name": "8CC00_group",
   "language": "python",
   "name": "8cc00_group"
  },
  "language_info": {
   "codemirror_mode": {
    "name": "ipython",
    "version": 3
   },
   "file_extension": ".py",
   "mimetype": "text/x-python",
   "name": "python",
   "nbconvert_exporter": "python",
   "pygments_lexer": "ipython3",
   "version": "3.9.16"
  }
 },
 "nbformat": 4,
 "nbformat_minor": 5
}
